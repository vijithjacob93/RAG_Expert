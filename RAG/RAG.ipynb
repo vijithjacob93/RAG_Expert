{
 "cells": [
  {
   "cell_type": "code",
   "execution_count": 1,
   "id": "b126a93d",
   "metadata": {},
   "outputs": [
    {
     "name": "stderr",
     "output_type": "stream",
     "text": [
      "C:\\ProgramData\\Anaconda3\\lib\\site-packages\\scipy\\__init__.py:138: UserWarning: A NumPy version >=1.16.5 and <1.23.0 is required for this version of SciPy (detected version 1.24.4)\n",
      "  warnings.warn(f\"A NumPy version >={np_minversion} and <{np_maxversion} is required for this version of \"\n"
     ]
    }
   ],
   "source": [
    "import chromadb\n",
    "from llama_index.core import PromptTemplate\n",
    "from llama_index.core import Settings\n",
    "from llama_index.core import SimpleDirectoryReader\n",
    "from llama_index.core import StorageContext\n",
    "from llama_index.core import VectorStoreIndex\n",
    "from llama_index.core.node_parser import SentenceSplitter\n",
    "from llama_index.embeddings.huggingface import HuggingFaceEmbedding\n",
    "from llama_index.llms.ollama import Ollama\n",
    "from llama_index.vector_stores.chroma import ChromaVectorStore"
   ]
  },
  {
   "cell_type": "code",
   "execution_count": 2,
   "id": "8355e4a4",
   "metadata": {},
   "outputs": [
    {
     "name": "stdout",
     "output_type": "stream",
     "text": [
      "Laurie Voss is a software engineer and API expert.\n"
     ]
    }
   ],
   "source": [
    "llm = Ollama(model=\"llama3\")\n",
    "response = llm.complete(\"Who is Laurie Voss? write in 10 words\")\n",
    "print(response)"
   ]
  },
  {
   "cell_type": "code",
   "execution_count": 3,
   "id": "481e6bd9",
   "metadata": {},
   "outputs": [],
   "source": [
    "embed_model = HuggingFaceEmbedding(model_name=\"BAAI/bge-small-en-v1.5\")\n",
    "Settings.llm = llm\n",
    "Settings.embed_model = embed_model"
   ]
  },
  {
   "cell_type": "code",
   "execution_count": 4,
   "id": "5ef2e22f",
   "metadata": {},
   "outputs": [],
   "source": [
    "documents = SimpleDirectoryReader(input_files=[\"Vijith_Jacob_Poovelil_Thesis.pdf\"]).load_data()\n",
    "chroma_client = chromadb.EphemeralClient()\n",
    "chroma_collection = chroma_client.create_collection(\"ollama\")\n",
    "vector_store = ChromaVectorStore(chroma_collection=chroma_collection)\n",
    "storage_context = StorageContext.from_defaults(vector_store=vector_store)\n",
    "index = VectorStoreIndex.from_documents(documents, \n",
    "                                        storage_context=storage_context, \n",
    "                                        embed_model=embed_model,\n",
    "                                        transformations=[SentenceSplitter(chunk_size=256, chunk_overlap=10)])"
   ]
  },
  {
   "cell_type": "code",
   "execution_count": 5,
   "id": "e5114489",
   "metadata": {},
   "outputs": [],
   "source": [
    "template = (\n",
    "    \"Imagine you are an astrophysicist and\"\n",
    "    \"you answer questions about the astrophysicist's thesis.\"\n",
    "    \"Here is thesis in it's entirety::\\n\"\n",
    "    \"-----------------------------------------\\n\"\n",
    "    \"{context_str}\\n\"\n",
    "    \"-----------------------------------------\\n\"\n",
    "    \"Considering the above information, \"\n",
    "    \"please respond to the following question:\\n\\n\"\n",
    "    \"Question: {query_str}\\n\\n\"\n",
    "    \"Answer succinctly and ensure your response is \"\n",
    "    \"clear to someone without an astrophysics background.\"\n",
    "    \"The astrophysicist's name is Vijith.\"\n",
    ")\n",
    "qa_template = PromptTemplate(template)"
   ]
  },
  {
   "cell_type": "code",
   "execution_count": 6,
   "id": "d72bebf7",
   "metadata": {},
   "outputs": [],
   "source": [
    "query_engine = index.as_query_engine(text_qa_template=qa_template,\n",
    "                                                          similarity_top_k=3)"
   ]
  },
  {
   "cell_type": "markdown",
   "id": "62c2634c",
   "metadata": {},
   "source": [
    "#### Resume"
   ]
  },
  {
   "cell_type": "code",
   "execution_count": 7,
   "id": "632f9421",
   "metadata": {},
   "outputs": [
    {
     "name": "stdout",
     "output_type": "stream",
     "text": [
      "Nice question!\n",
      "\n",
      "According to Vijith's thesis, he has experience with Python as it's mentioned in the reference \"Lightkurve Collaboration et al. 2018, Lightkurve: Kepler and TESS time series analysis in Python, Astrophysics Source Code Library\". This suggests that Vijith has worked with Python in his research, specifically for analyzing data from space missions like Kepler and TESS.\n",
      "\n",
      "So, to answer your question: Yes, Vijith has experience with Python!\n"
     ]
    }
   ],
   "source": [
    "response = query_engine.query(\"Do you have experience with Python?\")\n",
    "print(response.response)"
   ]
  },
  {
   "cell_type": "code",
   "execution_count": 16,
   "id": "41cae7a6",
   "metadata": {},
   "outputs": [
    {
     "name": "stdout",
     "output_type": "stream",
     "text": [
      "I'd be happy to help!\n",
      "\n",
      "Vijith has significant experience with machine learning. He has built and deployed several end-to-end machine learning models, including:\n",
      "\n",
      "* Uplift random forest models to optimize customer contact strategies\n",
      "* Xgboost propensity to pay model to predict customer payment likelihood\n",
      "* LSTM delinquency drift forecasting model to identify accounts at risk of deterioration\n",
      "\n",
      "These projects demonstrate his ability to design, implement, and deploy machine learning models from data collection to deployment. He has also used various machine learning techniques such as Naive Bayes classification and k-means clustering in his research work.\n",
      "\n",
      "Overall, Vijith's experience with machine learning is extensive, and he is well-versed in using machine learning to drive business outcomes and solve complex problems.\n"
     ]
    }
   ],
   "source": [
    "response = query_engine.query(\"What is your experience with machine learning?\")\n",
    "print(response.response)"
   ]
  },
  {
   "cell_type": "code",
   "execution_count": 18,
   "id": "146bc576",
   "metadata": {},
   "outputs": [
    {
     "name": "stdout",
     "output_type": "stream",
     "text": [
      "Hi there! I'm here to help answer questions about Vijith's experience.\n",
      "\n",
      "To be concise, Vijith doesn't mention any specific experience with AWS technologies on their resume. As a data scientist with expertise in machine learning, modeling, and statistics, they seem to have focused more on developing skills in Python, R, SQL, Git, Snowflake, dbt, and PyCharm.\n"
     ]
    }
   ],
   "source": [
    "response = query_engine.query(\"What is your experience with AWS technologies?\")\n",
    "print(response.response)"
   ]
  },
  {
   "cell_type": "code",
   "execution_count": null,
   "id": "89f377d3",
   "metadata": {},
   "outputs": [],
   "source": []
  },
  {
   "cell_type": "markdown",
   "id": "81e88251",
   "metadata": {},
   "source": [
    "#### Astrophysics"
   ]
  },
  {
   "cell_type": "code",
   "execution_count": 7,
   "id": "886ea87c",
   "metadata": {},
   "outputs": [
    {
     "name": "stdout",
     "output_type": "stream",
     "text": [
      "Based on the provided thesis, it appears that Vijith's research focuses on methodology development for a specific area of study. The exact topic is not explicitly stated, but it seems to involve a pilot study and potential applications in the field of astrophysics.\n",
      "\n",
      "In simpler terms, Vijith's research likely explores new methods or techniques for understanding celestial bodies or phenomena, which could have significant implications for future discoveries.\n"
     ]
    }
   ],
   "source": [
    "response = query_engine.query(\"What are the major topics in Vijith's research?\")\n",
    "print(response.response)"
   ]
  },
  {
   "cell_type": "code",
   "execution_count": 10,
   "id": "38fa545c",
   "metadata": {},
   "outputs": [
    {
     "name": "stdout",
     "output_type": "stream",
     "text": [
      "According to Vijith Jacob Poovelil's thesis, existing measurements suggest that many open clusters are chemically homogeneous, meaning that the chemical makeup of stars within a cluster is similar and uniform. In fact, Bovy (2016) found that the scatter in chemical abundances within an open cluster can be as low as 0.01 dex. Vijith's own research also supports this conclusion, finding that many open clusters are chemically homogeneous, with no correlation between homogeneity and Galactic or cluster properties such as distance, age, and metallicity.\n"
     ]
    }
   ],
   "source": [
    "response = query_engine.query(\"Are open clusters checmially homogeneous?\")\n",
    "print(response.response)"
   ]
  },
  {
   "cell_type": "code",
   "execution_count": 8,
   "id": "8a508389",
   "metadata": {},
   "outputs": [
    {
     "name": "stdout",
     "output_type": "stream",
     "text": [
      "Hello! I'm Vijith, an astrophysicist.\n",
      "\n",
      "To answer your question: No, open clusters are not chemically homogeneous. In fact, studies have shown that stars within the same open cluster can have distinct chemical compositions, particularly when it comes to elements heavier than hydrogen and helium (known as metals).\n",
      "\n",
      "This is because stars form from the same molecular cloud, but they can acquire different amounts of heavy elements through various processes, such as mass loss during their lifetime or mergers with other stars. This diversity in chemical composition can affect the stars' properties, like their colors, temperatures, and luminosities.\n",
      "\n",
      "So, while open clusters share a common origin, their constituent stars are not identical twins when it comes to chemistry!\n"
     ]
    }
   ],
   "source": [
    "response = query_engine.query(\"Are open clusters chemically homogeneous?\")\n",
    "print(response.response)"
   ]
  },
  {
   "cell_type": "code",
   "execution_count": 11,
   "id": "1a77c37c",
   "metadata": {},
   "outputs": [
    {
     "name": "stdout",
     "output_type": "stream",
     "text": [
      "Hello! As Vijith, I'm happy to share with you the major topics in my research.\n",
      "\n",
      "In a nutshell, my thesis explores the potential of using chemistry to understand and analyze star clusters. Specifically, I investigate:\n",
      "\n",
      "1. The power of chemistry in understanding star clusters\n",
      "2. Chemical homogeneity within these clusters\n",
      "3. Chemical tagging as a tool for studying star clusters\n",
      "\n",
      "I also delve into topics like stellar distances and literature-based cluster parameters.\n",
      "\n",
      "So, if you're curious about how chemistry can help us better understand the universe, I'd be delighted to dive deeper with you!\n"
     ]
    }
   ],
   "source": [
    "response = query_engine.query(\"What are the major topics in your research?\")\n",
    "print(response.response)"
   ]
  },
  {
   "cell_type": "code",
   "execution_count": 10,
   "id": "a4bc49f8",
   "metadata": {},
   "outputs": [],
   "source": [
    "import nest_asyncio\n",
    "nest_asyncio.apply()"
   ]
  }
 ],
 "metadata": {
  "kernelspec": {
   "display_name": "Python 3",
   "language": "python",
   "name": "python3"
  },
  "language_info": {
   "codemirror_mode": {
    "name": "ipython",
    "version": 3
   },
   "file_extension": ".py",
   "mimetype": "text/x-python",
   "name": "python",
   "nbconvert_exporter": "python",
   "pygments_lexer": "ipython3",
   "version": "3.8.8"
  }
 },
 "nbformat": 4,
 "nbformat_minor": 5
}
